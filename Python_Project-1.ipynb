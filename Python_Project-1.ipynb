{
 "cells": [
  {
   "cell_type": "code",
   "execution_count": 1,
   "id": "003cb300-f581-4f55-9fb1-d4d81a3b9dc0",
   "metadata": {},
   "outputs": [],
   "source": [
    "# URl Shorter"
   ]
  },
  {
   "cell_type": "code",
   "execution_count": 2,
   "id": "2d22e330-a13f-4c22-9c24-6dc51d16d67b",
   "metadata": {},
   "outputs": [],
   "source": [
    "# Version 1"
   ]
  },
  {
   "cell_type": "code",
   "execution_count": 3,
   "id": "f310f683-9663-4612-84f0-db68e224b8bb",
   "metadata": {},
   "outputs": [],
   "source": [
    "import string\n",
    "import random"
   ]
  },
  {
   "cell_type": "code",
   "execution_count": 4,
   "id": "6cc85396-d60d-4097-9598-f13cbac0459f",
   "metadata": {},
   "outputs": [],
   "source": [
    "DB = {}"
   ]
  },
  {
   "cell_type": "code",
   "execution_count": 6,
   "id": "57a71086-17b9-4d78-acf3-067184b60d8d",
   "metadata": {},
   "outputs": [],
   "source": [
    "def getShortURL(longURL):\n",
    "    \"\"\"\n",
    "    It will accept longURL and would convert it into short URL\n",
    "    \"\"\"\n",
    "    leng = random.randint(4,6)\n",
    "    chars = string.ascii_lowercase\n",
    "    shortURL = \"\".join([random.choice(chars) for i in range(leng)])\n",
    "\n",
    "    if shortURL in DB:\n",
    "        return getShortURL(longURL)\n",
    "    else:\n",
    "        DB[shortURL] = longURL\n",
    "\n",
    "    result = \"cm.in/\"+ shortURL\n",
    "    return result"
   ]
  },
  {
   "cell_type": "code",
   "execution_count": 7,
   "id": "0c7ec4d4-a010-4ba6-8f3b-235158c489e3",
   "metadata": {},
   "outputs": [
    {
     "data": {
      "text/plain": [
       "{}"
      ]
     },
     "execution_count": 7,
     "metadata": {},
     "output_type": "execute_result"
    }
   ],
   "source": [
    "DB"
   ]
  },
  {
   "cell_type": "code",
   "execution_count": 8,
   "id": "fc259a57-e11e-42b5-a759-75a36d2315f9",
   "metadata": {},
   "outputs": [
    {
     "data": {
      "text/plain": [
       "'cm.in/hfkwsg'"
      ]
     },
     "execution_count": 8,
     "metadata": {},
     "output_type": "execute_result"
    }
   ],
   "source": [
    "getShortURL(\"www.facebook.com\")"
   ]
  },
  {
   "cell_type": "code",
   "execution_count": 9,
   "id": "5e6d02bc-ae1b-4891-aa0d-e08f111e0a95",
   "metadata": {},
   "outputs": [
    {
     "data": {
      "text/plain": [
       "{'hfkwsg': 'www.facebook.com'}"
      ]
     },
     "execution_count": 9,
     "metadata": {},
     "output_type": "execute_result"
    }
   ],
   "source": [
    "DB"
   ]
  },
  {
   "cell_type": "code",
   "execution_count": 10,
   "id": "569eaab2-ead4-49f0-a561-cecb3919f448",
   "metadata": {},
   "outputs": [
    {
     "data": {
      "text/plain": [
       "'cm.in/kzgge'"
      ]
     },
     "execution_count": 10,
     "metadata": {},
     "output_type": "execute_result"
    }
   ],
   "source": [
    "getShortURL(\"www.indianrailway.com\")"
   ]
  },
  {
   "cell_type": "code",
   "execution_count": 11,
   "id": "5e96f2ff-c915-49ff-9575-3572a13487d3",
   "metadata": {},
   "outputs": [
    {
     "data": {
      "text/plain": [
       "{'hfkwsg': 'www.facebook.com', 'kzgge': 'www.indianrailway.com'}"
      ]
     },
     "execution_count": 11,
     "metadata": {},
     "output_type": "execute_result"
    }
   ],
   "source": [
    "DB"
   ]
  },
  {
   "cell_type": "code",
   "execution_count": null,
   "id": "60b07fee-73f2-4cf9-9b27-0db38ac576b2",
   "metadata": {},
   "outputs": [],
   "source": []
  },
  {
   "cell_type": "code",
   "execution_count": 12,
   "id": "dc65f94c-50e1-4d53-8a74-c8e358741616",
   "metadata": {},
   "outputs": [],
   "source": [
    "# reverse function"
   ]
  },
  {
   "cell_type": "code",
   "execution_count": null,
   "id": "228c50fe-7811-4f97-83be-ecb1848cf102",
   "metadata": {},
   "outputs": [],
   "source": []
  },
  {
   "cell_type": "code",
   "execution_count": 13,
   "id": "31115263-f52c-4376-b8f4-8d3c0182ecc0",
   "metadata": {},
   "outputs": [],
   "source": [
    "def getLongURL(shortURL):\n",
    "    \"\"\"\n",
    "    IT will be accepting shortURL and provide LONGURL\n",
    "    \"\"\"\n",
    "    key = shortURL.split('/')[-1]\n",
    "\n",
    "    if key in DB:\n",
    "        return DB[key]\n",
    "    else:\n",
    "        return \"ShortURL does'nt exist\""
   ]
  },
  {
   "cell_type": "code",
   "execution_count": 14,
   "id": "712178f5-60e1-4965-88bc-312c81bbb008",
   "metadata": {},
   "outputs": [
    {
     "data": {
      "text/plain": [
       "\"ShortURL does'nt exist\""
      ]
     },
     "execution_count": 14,
     "metadata": {},
     "output_type": "execute_result"
    }
   ],
   "source": [
    "getLongURL('cm.in/tspcxl')"
   ]
  },
  {
   "cell_type": "code",
   "execution_count": 15,
   "id": "3a946ba2-9575-4439-8080-9db7ef0d9fcc",
   "metadata": {},
   "outputs": [
    {
     "data": {
      "text/plain": [
       "'cm.in/iphn'"
      ]
     },
     "execution_count": 15,
     "metadata": {},
     "output_type": "execute_result"
    }
   ],
   "source": [
    "getShortURL(\"https://delhimetrorail.com/security-dmrc\")"
   ]
  },
  {
   "cell_type": "code",
   "execution_count": 16,
   "id": "2a437310-8d18-4a46-b4fb-5b6a09aa85e4",
   "metadata": {},
   "outputs": [
    {
     "data": {
      "text/plain": [
       "{'hfkwsg': 'www.facebook.com',\n",
       " 'kzgge': 'www.indianrailway.com',\n",
       " 'iphn': 'https://delhimetrorail.com/security-dmrc'}"
      ]
     },
     "execution_count": 16,
     "metadata": {},
     "output_type": "execute_result"
    }
   ],
   "source": [
    "DB"
   ]
  },
  {
   "cell_type": "code",
   "execution_count": 17,
   "id": "81652912-f2f3-42c0-917b-a6aa6be030d6",
   "metadata": {},
   "outputs": [
    {
     "data": {
      "text/plain": [
       "\"ShortURL does'nt exist\""
      ]
     },
     "execution_count": 17,
     "metadata": {},
     "output_type": "execute_result"
    }
   ],
   "source": [
    "getLongURL('cm.in/gcwvi')"
   ]
  },
  {
   "cell_type": "code",
   "execution_count": null,
   "id": "bcba38da-943e-4fe4-b987-6722e4ddf163",
   "metadata": {},
   "outputs": [],
   "source": []
  },
  {
   "cell_type": "code",
   "execution_count": 18,
   "id": "eafc1852-133b-4cca-afd0-9042a56b29fb",
   "metadata": {},
   "outputs": [],
   "source": [
    "# Version 2"
   ]
  },
  {
   "cell_type": "code",
   "execution_count": 19,
   "id": "e2e8cd77-b637-4720-80a1-6ff79361a447",
   "metadata": {},
   "outputs": [],
   "source": [
    "DB = {}"
   ]
  },
  {
   "cell_type": "code",
   "execution_count": 20,
   "id": "51696d14-0ae5-4cf3-bc47-3313887efaa6",
   "metadata": {},
   "outputs": [],
   "source": [
    "def getShortURL(longURL,myShortURL = None):\n",
    "    \"\"\"\n",
    "    It will accept longURL and would convert it into short URL\n",
    "    \"\"\"\n",
    "\n",
    "    if myShortURL:\n",
    "        if myShortURL in DB:\n",
    "            return \"ShortURL already Exist\"\n",
    "        else:\n",
    "            DB[myShortURL] = longURL\n",
    "            res = \"cm.in/\"+ myShortURL\n",
    "            return res\n",
    "        \n",
    "    leng = random.randint(4,6)\n",
    "    chars = string.ascii_lowercase + string.digits\n",
    "    shortURL = \"\".join([random.choice(chars) for i in range(leng)])\n",
    "\n",
    "    if shortURL in DB:\n",
    "        return getShortURL(longURL)\n",
    "    else:\n",
    "        DB[shortURL] = longURL\n",
    "\n",
    "    result = \"cm.in/\"+ shortURL\n",
    "    return result"
   ]
  },
  {
   "cell_type": "code",
   "execution_count": 21,
   "id": "f3c2700d-5b86-41c8-b57d-30ce8ef847ec",
   "metadata": {},
   "outputs": [
    {
     "data": {
      "text/plain": [
       "{}"
      ]
     },
     "execution_count": 21,
     "metadata": {},
     "output_type": "execute_result"
    }
   ],
   "source": [
    "DB"
   ]
  },
  {
   "cell_type": "code",
   "execution_count": 22,
   "id": "baef90fb-267a-42b5-a52b-95e04deb15f4",
   "metadata": {},
   "outputs": [
    {
     "data": {
      "text/plain": [
       "'cm.in/o9io'"
      ]
     },
     "execution_count": 22,
     "metadata": {},
     "output_type": "execute_result"
    }
   ],
   "source": [
    "getShortURL(\"https://www.indianrail.gov.in/enquiry/StaticPages/StaticEnquiry.jsp?StaticPage=index.html\")"
   ]
  },
  {
   "cell_type": "code",
   "execution_count": 23,
   "id": "a101dbdd-0a35-464f-8229-66aa052d6891",
   "metadata": {},
   "outputs": [
    {
     "data": {
      "text/plain": [
       "{'o9io': 'https://www.indianrail.gov.in/enquiry/StaticPages/StaticEnquiry.jsp?StaticPage=index.html'}"
      ]
     },
     "execution_count": 23,
     "metadata": {},
     "output_type": "execute_result"
    }
   ],
   "source": [
    "DB"
   ]
  },
  {
   "cell_type": "code",
   "execution_count": 24,
   "id": "6ad225c1-62e2-4bba-a5ce-41cd39ea1b65",
   "metadata": {},
   "outputs": [
    {
     "data": {
      "text/plain": [
       "'cm.in/face'"
      ]
     },
     "execution_count": 24,
     "metadata": {},
     "output_type": "execute_result"
    }
   ],
   "source": [
    "getShortURL(\"www.facebook.com\", \"face\")"
   ]
  },
  {
   "cell_type": "code",
   "execution_count": 25,
   "id": "f0372f87-5afa-4135-8f35-cbdbca994724",
   "metadata": {},
   "outputs": [
    {
     "data": {
      "text/plain": [
       "{'o9io': 'https://www.indianrail.gov.in/enquiry/StaticPages/StaticEnquiry.jsp?StaticPage=index.html',\n",
       " 'face': 'www.facebook.com'}"
      ]
     },
     "execution_count": 25,
     "metadata": {},
     "output_type": "execute_result"
    }
   ],
   "source": [
    "DB"
   ]
  },
  {
   "cell_type": "code",
   "execution_count": 26,
   "id": "70882685-56c8-4f2a-b907-3b8040ff7b87",
   "metadata": {},
   "outputs": [
    {
     "data": {
      "text/plain": [
       "'cm.in/rail'"
      ]
     },
     "execution_count": 26,
     "metadata": {},
     "output_type": "execute_result"
    }
   ],
   "source": [
    "getShortURL(\"https://delhimetrorail.com/\", \"rail\")"
   ]
  },
  {
   "cell_type": "code",
   "execution_count": 27,
   "id": "704e0478-5c9c-4831-b12e-9db5f651c1a5",
   "metadata": {},
   "outputs": [
    {
     "data": {
      "text/plain": [
       "{'o9io': 'https://www.indianrail.gov.in/enquiry/StaticPages/StaticEnquiry.jsp?StaticPage=index.html',\n",
       " 'face': 'www.facebook.com',\n",
       " 'rail': 'https://delhimetrorail.com/'}"
      ]
     },
     "execution_count": 27,
     "metadata": {},
     "output_type": "execute_result"
    }
   ],
   "source": [
    "DB"
   ]
  },
  {
   "cell_type": "code",
   "execution_count": null,
   "id": "148f537c-df3f-4f63-87f6-2b2ca593766f",
   "metadata": {},
   "outputs": [],
   "source": []
  }
 ],
 "metadata": {
  "kernelspec": {
   "display_name": "Python 3 (ipykernel)",
   "language": "python",
   "name": "python3"
  },
  "language_info": {
   "codemirror_mode": {
    "name": "ipython",
    "version": 3
   },
   "file_extension": ".py",
   "mimetype": "text/x-python",
   "name": "python",
   "nbconvert_exporter": "python",
   "pygments_lexer": "ipython3",
   "version": "3.11.7"
  },
  "widgets": {
   "application/vnd.jupyter.widget-state+json": {
    "state": {},
    "version_major": 2,
    "version_minor": 0
   }
  }
 },
 "nbformat": 4,
 "nbformat_minor": 5
}
